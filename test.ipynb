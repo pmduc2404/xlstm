{
 "cells": [
  {
   "cell_type": "code",
   "execution_count": 1,
   "metadata": {},
   "outputs": [
    {
     "data": {
      "text/plain": [
       "True"
      ]
     },
     "execution_count": 1,
     "metadata": {},
     "output_type": "execute_result"
    }
   ],
   "source": [
    "import torch\n",
    "\n",
    "from xlstm import (\n",
    "    xLSTMBlockStack,\n",
    "    xLSTMBlockStackConfig,\n",
    "    mLSTMBlockConfig,\n",
    "    mLSTMLayerConfig,\n",
    "    sLSTMBlockConfig,\n",
    "    sLSTMLayerConfig,\n",
    "    FeedForwardConfig,\n",
    ")\n",
    "\n",
    "cfg = xLSTMBlockStackConfig(\n",
    "    mlstm_block=mLSTMBlockConfig(\n",
    "        mlstm=mLSTMLayerConfig(\n",
    "            conv1d_kernel_size=4, qkv_proj_blocksize=4, num_heads=4\n",
    "        )\n",
    "    ),\n",
    "    slstm_block=sLSTMBlockConfig(\n",
    "        slstm=sLSTMLayerConfig(\n",
    "            backend=\"vanilla\",\n",
    "            num_heads=4,\n",
    "            conv1d_kernel_size=4,\n",
    "            bias_init=\"powerlaw_blockdependent\",\n",
    "        ),\n",
    "        feedforward=FeedForwardConfig(proj_factor=1.3, act_fn=\"gelu\"),\n",
    "    ),\n",
    "    context_length=256,\n",
    "    num_blocks=7,\n",
    "    embedding_dim=128,\n",
    "    slstm_at=[1],\n",
    "\n",
    ")\n",
    "\n",
    "xlstm_stack = xLSTMBlockStack(cfg)\n",
    "\n",
    "x = torch.randn(4, 256, 128).to(\"cuda\")\n",
    "xlstm_stack = xlstm_stack.to(\"cuda\")\n",
    "y = xlstm_stack(x)\n",
    "y.shape == x.shape"
   ]
  },
  {
   "cell_type": "code",
   "execution_count": 8,
   "metadata": {},
   "outputs": [
    {
     "data": {
      "text/plain": [
       "tensor([[[-0.3544, -0.6995,  1.4311,  ..., -0.6576,  1.3795, -0.2724],\n",
       "         [-0.4570, -1.4393,  0.0965,  ..., -0.7694,  2.6384,  1.4066],\n",
       "         [ 0.0318, -0.3961,  0.4639,  ...,  0.7852, -1.1772, -0.7460],\n",
       "         ...,\n",
       "         [ 0.4731, -0.2035,  1.7486,  ..., -0.7287, -0.9913,  0.5442],\n",
       "         [-0.5619, -0.2545,  0.4778,  ..., -0.0386, -0.4550,  1.0346],\n",
       "         [-0.3072, -0.6604, -0.8579,  ..., -2.1245, -0.6586,  0.5086]],\n",
       "\n",
       "        [[-0.1547,  0.2920, -1.2717,  ..., -0.2698, -1.8459,  0.7042],\n",
       "         [ 0.5903,  0.4118, -1.3539,  ...,  1.0233,  0.9020, -0.5574],\n",
       "         [ 1.3671, -0.8432,  0.2716,  ..., -0.5516, -0.6731,  2.4590],\n",
       "         ...,\n",
       "         [ 0.1026, -0.6479,  0.7490,  ..., -0.3778, -1.1097, -0.3112],\n",
       "         [-0.6671, -0.1637,  1.3127,  ..., -1.1991, -0.3213, -0.2049],\n",
       "         [-0.9012,  1.0195,  0.5207,  ..., -0.3551, -0.1920, -2.0184]],\n",
       "\n",
       "        [[-0.2749,  1.9428,  0.9880,  ..., -0.7222, -1.2419,  1.0590],\n",
       "         [ 0.9445,  0.6360, -1.2394,  ..., -0.1245, -1.5812,  0.4163],\n",
       "         [ 0.5001,  2.1808,  0.7599,  ...,  1.0423,  1.1964, -0.5198],\n",
       "         ...,\n",
       "         [ 0.8576,  1.0039,  1.6383,  ...,  1.4942, -0.7728, -1.7803],\n",
       "         [-0.0409, -0.5278,  0.6631,  ..., -0.6013, -1.2882,  2.0304],\n",
       "         [-2.1061, -0.0337, -0.2569,  ...,  1.5543, -0.9867, -0.4203]],\n",
       "\n",
       "        [[ 2.5864,  0.6073,  0.9896,  ..., -0.0040,  1.0386, -0.6032],\n",
       "         [ 1.8278, -0.5528, -0.0291,  ...,  0.1130, -0.8658, -0.6753],\n",
       "         [-0.4696,  1.7447, -0.3065,  ..., -1.6940, -0.9449,  0.1406],\n",
       "         ...,\n",
       "         [-0.4815, -0.1264, -0.8806,  ...,  0.9903, -0.2939, -0.9928],\n",
       "         [ 0.3257,  0.2781, -0.2028,  ...,  0.5231, -0.0728,  0.1961],\n",
       "         [ 0.1602,  0.9009,  0.9351,  ...,  0.8013,  1.1854, -1.3190]]],\n",
       "       device='cuda:0', grad_fn=<NativeLayerNormBackward0>)"
      ]
     },
     "execution_count": 8,
     "metadata": {},
     "output_type": "execute_result"
    }
   ],
   "source": [
    "y"
   ]
  },
  {
   "cell_type": "code",
   "execution_count": null,
   "metadata": {},
   "outputs": [],
   "source": []
  }
 ],
 "metadata": {
  "kernelspec": {
   "display_name": "xlstm",
   "language": "python",
   "name": "python3"
  },
  "language_info": {
   "codemirror_mode": {
    "name": "ipython",
    "version": 3
   },
   "file_extension": ".py",
   "mimetype": "text/x-python",
   "name": "python",
   "nbconvert_exporter": "python",
   "pygments_lexer": "ipython3",
   "version": "3.11.11"
  }
 },
 "nbformat": 4,
 "nbformat_minor": 2
}
