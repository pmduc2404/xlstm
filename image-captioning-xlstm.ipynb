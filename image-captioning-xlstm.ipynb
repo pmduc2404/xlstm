{
 "cells": [
  {
   "cell_type": "code",
   "execution_count": 1,
   "metadata": {
    "execution": {
     "iopub.execute_input": "2024-07-06T02:47:06.717635Z",
     "iopub.status.busy": "2024-07-06T02:47:06.717031Z",
     "iopub.status.idle": "2024-07-06T02:47:13.931096Z",
     "shell.execute_reply": "2024-07-06T02:47:13.930188Z",
     "shell.execute_reply.started": "2024-07-06T02:47:06.717606Z"
    },
    "trusted": true
   },
   "outputs": [
    {
     "ename": "ModuleNotFoundError",
     "evalue": "No module named 'torch._custom_ops'",
     "output_type": "error",
     "traceback": [
      "\u001b[1;31m---------------------------------------------------------------------------\u001b[0m",
      "\u001b[1;31mModuleNotFoundError\u001b[0m                       Traceback (most recent call last)",
      "Cell \u001b[1;32mIn[1], line 1\u001b[0m\n\u001b[1;32m----> 1\u001b[0m \u001b[38;5;28;01mimport\u001b[39;00m \u001b[38;5;21;01mtorchvision\u001b[39;00m\u001b[38;5;21;01m.\u001b[39;00m\u001b[38;5;21;01mmodels\u001b[39;00m \u001b[38;5;28;01mas\u001b[39;00m \u001b[38;5;21;01mmodels\u001b[39;00m\n\u001b[0;32m      2\u001b[0m \u001b[38;5;28;01mfrom\u001b[39;00m \u001b[38;5;21;01mtorch\u001b[39;00m \u001b[38;5;28;01mimport\u001b[39;00m nn\n\u001b[0;32m      3\u001b[0m \u001b[38;5;28;01mimport\u001b[39;00m \u001b[38;5;21;01mtorch\u001b[39;00m\n",
      "File \u001b[1;32mc:\\Users\\Admin\\anaconda3\\envs\\xlstm\\Lib\\site-packages\\torchvision\\__init__.py:6\u001b[0m\n\u001b[0;32m      3\u001b[0m \u001b[38;5;28;01mfrom\u001b[39;00m \u001b[38;5;21;01mmodulefinder\u001b[39;00m \u001b[38;5;28;01mimport\u001b[39;00m Module\n\u001b[0;32m      5\u001b[0m \u001b[38;5;28;01mimport\u001b[39;00m \u001b[38;5;21;01mtorch\u001b[39;00m\n\u001b[1;32m----> 6\u001b[0m \u001b[38;5;28;01mfrom\u001b[39;00m \u001b[38;5;21;01mtorchvision\u001b[39;00m \u001b[38;5;28;01mimport\u001b[39;00m _meta_registrations, datasets, io, models, ops, transforms, utils\n\u001b[0;32m      8\u001b[0m \u001b[38;5;28;01mfrom\u001b[39;00m \u001b[38;5;21;01m.\u001b[39;00m\u001b[38;5;21;01mextension\u001b[39;00m \u001b[38;5;28;01mimport\u001b[39;00m _HAS_OPS\n\u001b[0;32m     10\u001b[0m \u001b[38;5;28;01mtry\u001b[39;00m:\n",
      "File \u001b[1;32mc:\\Users\\Admin\\anaconda3\\envs\\xlstm\\Lib\\site-packages\\torchvision\\_meta_registrations.py:4\u001b[0m\n\u001b[0;32m      1\u001b[0m \u001b[38;5;28;01mimport\u001b[39;00m \u001b[38;5;21;01mfunctools\u001b[39;00m\n\u001b[0;32m      3\u001b[0m \u001b[38;5;28;01mimport\u001b[39;00m \u001b[38;5;21;01mtorch\u001b[39;00m\n\u001b[1;32m----> 4\u001b[0m \u001b[38;5;28;01mimport\u001b[39;00m \u001b[38;5;21;01mtorch\u001b[39;00m\u001b[38;5;21;01m.\u001b[39;00m\u001b[38;5;21;01m_custom_ops\u001b[39;00m\n\u001b[0;32m      5\u001b[0m \u001b[38;5;28;01mimport\u001b[39;00m \u001b[38;5;21;01mtorch\u001b[39;00m\u001b[38;5;21;01m.\u001b[39;00m\u001b[38;5;21;01mlibrary\u001b[39;00m\n\u001b[0;32m      7\u001b[0m \u001b[38;5;66;03m# Ensure that torch.ops.torchvision is visible\u001b[39;00m\n",
      "\u001b[1;31mModuleNotFoundError\u001b[0m: No module named 'torch._custom_ops'"
     ]
    }
   ],
   "source": [
    "import torchvision.models as models\n",
    "from torch import nn\n",
    "import torch\n",
    "import pandas as pd\n",
    "import random\n",
    "from torch.utils.data import Dataset, DataLoader\n",
    "from PIL import Image\n",
    "import os\n",
    "from torchvision.transforms import transforms\n",
    "from nltk.tokenize import word_tokenize\n",
    "from string import punctuation\n",
    "from torchtext.vocab import build_vocab_from_iterator\n",
    "from sklearn.model_selection import train_test_split\n",
    "from tqdm import tqdm\n",
    "from xlstm import (\n",
    "    xLSTMBlockStack,\n",
    "    xLSTMBlockStackConfig,\n",
    "    mLSTMBlockConfig,\n",
    "    mLSTMLayerConfig,\n",
    "    sLSTMBlockConfig,\n",
    "    sLSTMLayerConfig,\n",
    "    FeedForwardConfig,\n",
    ")\n",
    "\n",
    "cfg = xLSTMBlockStackConfig(\n",
    "    mlstm_block=mLSTMBlockConfig(\n",
    "        mlstm=mLSTMLayerConfig(\n",
    "            conv1d_kernel_size=4, qkv_proj_blocksize=4, num_heads=4\n",
    "        )\n",
    "    ),\n",
    "    slstm_block=sLSTMBlockConfig(\n",
    "        slstm=sLSTMLayerConfig(\n",
    "            backend=\"vanilla\",\n",
    "            num_heads=4,\n",
    "            conv1d_kernel_size=4,\n",
    "            bias_init=\"powerlaw_blockdependent\",\n",
    "        ),\n",
    "        feedforward=FeedForwardConfig(proj_factor=1.3, act_fn=\"gelu\"),\n",
    "    ),\n",
    "    context_length=256,\n",
    "    num_blocks=7,\n",
    "    embedding_dim=128,\n",
    "    slstm_at=[1],\n",
    "\n",
    ")\n",
    "\n",
    "torch.manual_seed(42)\n",
    "device = 'cuda' if torch.cuda.is_available() else 'cpu'"
   ]
  },
  {
   "cell_type": "code",
   "execution_count": 2,
   "metadata": {
    "execution": {
     "iopub.execute_input": "2024-07-06T02:47:13.933643Z",
     "iopub.status.busy": "2024-07-06T02:47:13.932967Z",
     "iopub.status.idle": "2024-07-06T02:47:13.940639Z",
     "shell.execute_reply": "2024-07-06T02:47:13.939839Z",
     "shell.execute_reply.started": "2024-07-06T02:47:13.933603Z"
    },
    "trusted": true
   },
   "outputs": [],
   "source": [
    "class Encoder(nn.Module):\n",
    "    def __init__(self, embed_dim, dropout = 0.5, grad = False):\n",
    "        super(Encoder, self).__init__()\n",
    "        self.resnet = models.resnet50(weights='DEFAULT')\n",
    "        self.resnet.fc = nn.Linear(self.resnet.fc.in_features, embed_dim)\n",
    "        \n",
    "        if not grad:\n",
    "            for param in self.resnet.parameters():\n",
    "                param.requires_grad = False\n",
    "\n",
    "        self.relu = nn.ReLU()\n",
    "        self.dropout = nn.Dropout(dropout)\n",
    "        \n",
    "    def forward(self, x):\n",
    "        feature = self.resnet(x)\n",
    "        return self.dropout(self.relu(feature))\n",
    "    "
   ]
  },
  {
   "cell_type": "code",
   "execution_count": 3,
   "metadata": {
    "execution": {
     "iopub.execute_input": "2024-07-06T03:03:16.806054Z",
     "iopub.status.busy": "2024-07-06T03:03:16.805573Z",
     "iopub.status.idle": "2024-07-06T03:03:16.815995Z",
     "shell.execute_reply": "2024-07-06T03:03:16.814980Z",
     "shell.execute_reply.started": "2024-07-06T03:03:16.806019Z"
    },
    "trusted": true
   },
   "outputs": [],
   "source": [
    "class Decoder(nn.Module):\n",
    "    def __init__(self, embed_dim, hidden_dim, vocab_size, num_layers, device, encoder, dropout=0.5):\n",
    "        super(Decoder, self).__init__()\n",
    "        self.embed = nn.Embedding(vocab_size, embed_dim)\n",
    "        self.lstm = xLSTMBlockStack(cfg)\n",
    "        self.linear = nn.Linear(hidden_dim, vocab_size)\n",
    "        self.dropout = nn.Dropout(dropout)\n",
    "        self.num_layers = num_layers\n",
    "        self.device = device\n",
    "        self.encoder = encoder.to(device)\n",
    "    \n",
    "    def forward(self, image, caption):\n",
    "        features = self.encoder(image)\n",
    "        \n",
    "        embeddings = self.dropout(self.embed(caption))\n",
    "       \n",
    "        embeddings = torch.cat((features.unsqueeze(1),embeddings), dim=1)\n",
    "        \n",
    "        outputs, state = self.lstm(embeddings)\n",
    "        outputs = self.linear(outputs)\n",
    "        \n",
    "        return outputs\n",
    "    \n",
    "#     def forward(self, image, captions):\n",
    "#         features = self.encoder(image)\n",
    "#         embeddings = self.dropout(self.embed(captions))\n",
    "#         embeddings = torch.cat((features.unsqueeze(1), embeddings), 1)\n",
    "\n",
    "#         batch_size = features.size(0)\n",
    "#         captions_length = captions.size(1)\n",
    "#         vocab_size = self.linear.out_features\n",
    "\n",
    "#         outputs = torch.zeros(batch_size, captions_length, vocab_size).to(self.device)\n",
    "#         input = features.unsqueeze(1)\n",
    "\n",
    "#         state = None\n",
    "        \n",
    "#         for i in range(captions_length):\n",
    "#             output, state = self.lstm(input, state)\n",
    "#             output = self.linear(output)\n",
    "#             outputs[:, i, :] = output.squeeze(1)\n",
    "\n",
    "#             top1 = output.argmax(2)\n",
    "#             input = self.dropout(self.embed(top1))\n",
    "\n",
    "#         return outputs"
   ]
  },
  {
   "cell_type": "code",
   "execution_count": 4,
   "metadata": {
    "execution": {
     "iopub.execute_input": "2024-07-06T02:47:13.953716Z",
     "iopub.status.busy": "2024-07-06T02:47:13.953399Z",
     "iopub.status.idle": "2024-07-06T02:47:14.060233Z",
     "shell.execute_reply": "2024-07-06T02:47:14.059416Z",
     "shell.execute_reply.started": "2024-07-06T02:47:13.953694Z"
    },
    "trusted": true
   },
   "outputs": [],
   "source": [
    "data = pd.read_csv(\"C:/Users/Admin/Desktop/Desktop/imgcaptioning/flick8k/captions.txt\")"
   ]
  },
  {
   "cell_type": "code",
   "execution_count": 5,
   "metadata": {
    "execution": {
     "iopub.execute_input": "2024-07-06T02:47:14.061789Z",
     "iopub.status.busy": "2024-07-06T02:47:14.061517Z",
     "iopub.status.idle": "2024-07-06T02:47:14.079807Z",
     "shell.execute_reply": "2024-07-06T02:47:14.078956Z",
     "shell.execute_reply.started": "2024-07-06T02:47:14.061766Z"
    },
    "trusted": true
   },
   "outputs": [
    {
     "data": {
      "text/html": [
       "<div>\n",
       "<style scoped>\n",
       "    .dataframe tbody tr th:only-of-type {\n",
       "        vertical-align: middle;\n",
       "    }\n",
       "\n",
       "    .dataframe tbody tr th {\n",
       "        vertical-align: top;\n",
       "    }\n",
       "\n",
       "    .dataframe thead th {\n",
       "        text-align: right;\n",
       "    }\n",
       "</style>\n",
       "<table border=\"1\" class=\"dataframe\">\n",
       "  <thead>\n",
       "    <tr style=\"text-align: right;\">\n",
       "      <th></th>\n",
       "      <th>image</th>\n",
       "      <th>caption</th>\n",
       "    </tr>\n",
       "  </thead>\n",
       "  <tbody>\n",
       "    <tr>\n",
       "      <th>0</th>\n",
       "      <td>1000268201_693b08cb0e.jpg</td>\n",
       "      <td>A child in a pink dress is climbing up a set o...</td>\n",
       "    </tr>\n",
       "    <tr>\n",
       "      <th>1</th>\n",
       "      <td>1000268201_693b08cb0e.jpg</td>\n",
       "      <td>A girl going into a wooden building .</td>\n",
       "    </tr>\n",
       "    <tr>\n",
       "      <th>2</th>\n",
       "      <td>1000268201_693b08cb0e.jpg</td>\n",
       "      <td>A little girl climbing into a wooden playhouse .</td>\n",
       "    </tr>\n",
       "    <tr>\n",
       "      <th>3</th>\n",
       "      <td>1000268201_693b08cb0e.jpg</td>\n",
       "      <td>A little girl climbing the stairs to her playh...</td>\n",
       "    </tr>\n",
       "    <tr>\n",
       "      <th>4</th>\n",
       "      <td>1000268201_693b08cb0e.jpg</td>\n",
       "      <td>A little girl in a pink dress going into a woo...</td>\n",
       "    </tr>\n",
       "  </tbody>\n",
       "</table>\n",
       "</div>"
      ],
      "text/plain": [
       "                       image  \\\n",
       "0  1000268201_693b08cb0e.jpg   \n",
       "1  1000268201_693b08cb0e.jpg   \n",
       "2  1000268201_693b08cb0e.jpg   \n",
       "3  1000268201_693b08cb0e.jpg   \n",
       "4  1000268201_693b08cb0e.jpg   \n",
       "\n",
       "                                             caption  \n",
       "0  A child in a pink dress is climbing up a set o...  \n",
       "1              A girl going into a wooden building .  \n",
       "2   A little girl climbing into a wooden playhouse .  \n",
       "3  A little girl climbing the stairs to her playh...  \n",
       "4  A little girl in a pink dress going into a woo...  "
      ]
     },
     "execution_count": 5,
     "metadata": {},
     "output_type": "execute_result"
    }
   ],
   "source": [
    "data.head()"
   ]
  },
  {
   "cell_type": "code",
   "execution_count": 6,
   "metadata": {
    "execution": {
     "iopub.execute_input": "2024-07-06T02:47:14.081176Z",
     "iopub.status.busy": "2024-07-06T02:47:14.080895Z",
     "iopub.status.idle": "2024-07-06T02:47:14.087307Z",
     "shell.execute_reply": "2024-07-06T02:47:14.086460Z",
     "shell.execute_reply.started": "2024-07-06T02:47:14.081153Z"
    },
    "trusted": true
   },
   "outputs": [],
   "source": [
    "def clean_text(text, lowercase=False, remove_punc=False, remove_num=False, sos_token='<sos>', eos_token='<eos>'):\n",
    "    if lowercase:\n",
    "        text = text.lower()\n",
    "    if remove_punc:\n",
    "        text = ''.join([ch for ch in text if ch not in punctuation])\n",
    "    if remove_num:\n",
    "        text = ''.join([ch for ch in text if ch not in '1234567890'])\n",
    "    text = [sos_token] + word_tokenize(text) + [eos_token]\n",
    "    return text"
   ]
  },
  {
   "cell_type": "code",
   "execution_count": 7,
   "metadata": {
    "execution": {
     "iopub.execute_input": "2024-07-06T02:47:14.088843Z",
     "iopub.status.busy": "2024-07-06T02:47:14.088548Z",
     "iopub.status.idle": "2024-07-06T02:47:14.111128Z",
     "shell.execute_reply": "2024-07-06T02:47:14.110325Z",
     "shell.execute_reply.started": "2024-07-06T02:47:14.088818Z"
    },
    "trusted": true
   },
   "outputs": [
    {
     "data": {
      "text/plain": [
       "['<sos>', 'a', 'cat', 'is', 'sitting', 'on', 'the', 'table', '<eos>']"
      ]
     },
     "execution_count": 7,
     "metadata": {},
     "output_type": "execute_result"
    }
   ],
   "source": [
    "clean_text(\"A cat is sitting on the table.\", lowercase=True, remove_punc=True, remove_num=True)"
   ]
  },
  {
   "cell_type": "code",
   "execution_count": 8,
   "metadata": {
    "execution": {
     "iopub.execute_input": "2024-07-06T02:47:14.112918Z",
     "iopub.status.busy": "2024-07-06T02:47:14.112195Z",
     "iopub.status.idle": "2024-07-06T02:47:14.116741Z",
     "shell.execute_reply": "2024-07-06T02:47:14.115925Z",
     "shell.execute_reply.started": "2024-07-06T02:47:14.112868Z"
    },
    "trusted": true
   },
   "outputs": [],
   "source": [
    "unk_token = '<unk>'\n",
    "pad_token = '<pad>'\n",
    "sos_token = '<sos>'\n",
    "eos_token = '<eos>'"
   ]
  },
  {
   "cell_type": "code",
   "execution_count": 9,
   "metadata": {
    "execution": {
     "iopub.execute_input": "2024-07-06T02:47:14.117862Z",
     "iopub.status.busy": "2024-07-06T02:47:14.117623Z",
     "iopub.status.idle": "2024-07-06T02:47:20.820771Z",
     "shell.execute_reply": "2024-07-06T02:47:20.820030Z",
     "shell.execute_reply.started": "2024-07-06T02:47:14.117841Z"
    },
    "trusted": true
   },
   "outputs": [],
   "source": [
    "clean_cap = data['caption'].apply(lambda x: clean_text(x, lowercase=True, remove_punc=True, remove_num=True))"
   ]
  },
  {
   "cell_type": "code",
   "execution_count": 10,
   "metadata": {
    "execution": {
     "iopub.execute_input": "2024-07-06T02:47:20.824580Z",
     "iopub.status.busy": "2024-07-06T02:47:20.824300Z",
     "iopub.status.idle": "2024-07-06T02:47:20.832405Z",
     "shell.execute_reply": "2024-07-06T02:47:20.831569Z",
     "shell.execute_reply.started": "2024-07-06T02:47:20.824557Z"
    },
    "trusted": true
   },
   "outputs": [
    {
     "data": {
      "text/plain": [
       "0    [<sos>, a, child, in, a, pink, dress, is, clim...\n",
       "1    [<sos>, a, girl, going, into, a, wooden, build...\n",
       "2    [<sos>, a, little, girl, climbing, into, a, wo...\n",
       "3    [<sos>, a, little, girl, climbing, the, stairs...\n",
       "4    [<sos>, a, little, girl, in, a, pink, dress, g...\n",
       "Name: caption, dtype: object"
      ]
     },
     "execution_count": 10,
     "metadata": {},
     "output_type": "execute_result"
    }
   ],
   "source": [
    "clean_cap.head()"
   ]
  },
  {
   "cell_type": "code",
   "execution_count": 11,
   "metadata": {
    "execution": {
     "iopub.execute_input": "2024-07-06T02:47:20.833643Z",
     "iopub.status.busy": "2024-07-06T02:47:20.833382Z",
     "iopub.status.idle": "2024-07-06T02:47:20.852110Z",
     "shell.execute_reply": "2024-07-06T02:47:20.851253Z",
     "shell.execute_reply.started": "2024-07-06T02:47:20.833620Z"
    },
    "trusted": true
   },
   "outputs": [],
   "source": [
    "data['clean_caption'] = clean_cap"
   ]
  },
  {
   "cell_type": "code",
   "execution_count": 12,
   "metadata": {
    "execution": {
     "iopub.execute_input": "2024-07-06T02:47:20.853333Z",
     "iopub.status.busy": "2024-07-06T02:47:20.853058Z",
     "iopub.status.idle": "2024-07-06T02:47:20.866334Z",
     "shell.execute_reply": "2024-07-06T02:47:20.865444Z",
     "shell.execute_reply.started": "2024-07-06T02:47:20.853306Z"
    },
    "trusted": true
   },
   "outputs": [
    {
     "data": {
      "text/html": [
       "<div>\n",
       "<style scoped>\n",
       "    .dataframe tbody tr th:only-of-type {\n",
       "        vertical-align: middle;\n",
       "    }\n",
       "\n",
       "    .dataframe tbody tr th {\n",
       "        vertical-align: top;\n",
       "    }\n",
       "\n",
       "    .dataframe thead th {\n",
       "        text-align: right;\n",
       "    }\n",
       "</style>\n",
       "<table border=\"1\" class=\"dataframe\">\n",
       "  <thead>\n",
       "    <tr style=\"text-align: right;\">\n",
       "      <th></th>\n",
       "      <th>image</th>\n",
       "      <th>caption</th>\n",
       "      <th>clean_caption</th>\n",
       "    </tr>\n",
       "  </thead>\n",
       "  <tbody>\n",
       "    <tr>\n",
       "      <th>0</th>\n",
       "      <td>1000268201_693b08cb0e.jpg</td>\n",
       "      <td>A child in a pink dress is climbing up a set o...</td>\n",
       "      <td>[&lt;sos&gt;, a, child, in, a, pink, dress, is, clim...</td>\n",
       "    </tr>\n",
       "    <tr>\n",
       "      <th>1</th>\n",
       "      <td>1000268201_693b08cb0e.jpg</td>\n",
       "      <td>A girl going into a wooden building .</td>\n",
       "      <td>[&lt;sos&gt;, a, girl, going, into, a, wooden, build...</td>\n",
       "    </tr>\n",
       "    <tr>\n",
       "      <th>2</th>\n",
       "      <td>1000268201_693b08cb0e.jpg</td>\n",
       "      <td>A little girl climbing into a wooden playhouse .</td>\n",
       "      <td>[&lt;sos&gt;, a, little, girl, climbing, into, a, wo...</td>\n",
       "    </tr>\n",
       "    <tr>\n",
       "      <th>3</th>\n",
       "      <td>1000268201_693b08cb0e.jpg</td>\n",
       "      <td>A little girl climbing the stairs to her playh...</td>\n",
       "      <td>[&lt;sos&gt;, a, little, girl, climbing, the, stairs...</td>\n",
       "    </tr>\n",
       "    <tr>\n",
       "      <th>4</th>\n",
       "      <td>1000268201_693b08cb0e.jpg</td>\n",
       "      <td>A little girl in a pink dress going into a woo...</td>\n",
       "      <td>[&lt;sos&gt;, a, little, girl, in, a, pink, dress, g...</td>\n",
       "    </tr>\n",
       "  </tbody>\n",
       "</table>\n",
       "</div>"
      ],
      "text/plain": [
       "                       image  \\\n",
       "0  1000268201_693b08cb0e.jpg   \n",
       "1  1000268201_693b08cb0e.jpg   \n",
       "2  1000268201_693b08cb0e.jpg   \n",
       "3  1000268201_693b08cb0e.jpg   \n",
       "4  1000268201_693b08cb0e.jpg   \n",
       "\n",
       "                                             caption  \\\n",
       "0  A child in a pink dress is climbing up a set o...   \n",
       "1              A girl going into a wooden building .   \n",
       "2   A little girl climbing into a wooden playhouse .   \n",
       "3  A little girl climbing the stairs to her playh...   \n",
       "4  A little girl in a pink dress going into a woo...   \n",
       "\n",
       "                                       clean_caption  \n",
       "0  [<sos>, a, child, in, a, pink, dress, is, clim...  \n",
       "1  [<sos>, a, girl, going, into, a, wooden, build...  \n",
       "2  [<sos>, a, little, girl, climbing, into, a, wo...  \n",
       "3  [<sos>, a, little, girl, climbing, the, stairs...  \n",
       "4  [<sos>, a, little, girl, in, a, pink, dress, g...  "
      ]
     },
     "execution_count": 12,
     "metadata": {},
     "output_type": "execute_result"
    }
   ],
   "source": [
    "data.head()"
   ]
  },
  {
   "cell_type": "code",
   "execution_count": 2,
   "metadata": {
    "execution": {
     "iopub.execute_input": "2024-07-06T02:47:20.867712Z",
     "iopub.status.busy": "2024-07-06T02:47:20.867454Z",
     "iopub.status.idle": "2024-07-06T02:47:21.072503Z",
     "shell.execute_reply": "2024-07-06T02:47:21.071630Z",
     "shell.execute_reply.started": "2024-07-06T02:47:20.867690Z"
    },
    "trusted": true
   },
   "outputs": [
    {
     "ename": "NameError",
     "evalue": "name 'build_vocab_from_iterator' is not defined",
     "output_type": "error",
     "traceback": [
      "\u001b[1;31m---------------------------------------------------------------------------\u001b[0m",
      "\u001b[1;31mNameError\u001b[0m                                 Traceback (most recent call last)",
      "Cell \u001b[1;32mIn[2], line 1\u001b[0m\n\u001b[1;32m----> 1\u001b[0m vocab \u001b[38;5;241m=\u001b[39m \u001b[43mbuild_vocab_from_iterator\u001b[49m(clean_cap, specials\u001b[38;5;241m=\u001b[39m[unk_token, pad_token, sos_token, eos_token])\n",
      "\u001b[1;31mNameError\u001b[0m: name 'build_vocab_from_iterator' is not defined"
     ]
    }
   ],
   "source": [
    "vocab = build_vocab_from_iterator(clean_cap, specials=[unk_token, pad_token, sos_token, eos_token])"
   ]
  },
  {
   "cell_type": "code",
   "execution_count": 19,
   "metadata": {},
   "outputs": [
    {
     "name": "stdout",
     "output_type": "stream",
     "text": [
      "Name: torchtext\n",
      "Version: 0.6.0\n",
      "Summary: Text utilities and datasets for PyTorch\n",
      "Home-page: https://github.com/pytorch/text\n",
      "Author: PyTorch core devs and James Bradbury\n",
      "Author-email: jekbradbury@gmail.com\n",
      "License: BSD\n",
      "Location: C:\\Users\\Admin\\anaconda3\\envs\\xlstm\\Lib\\site-packages\n",
      "Requires: numpy, requests, sentencepiece, six, torch, tqdm\n",
      "Required-by: \n"
     ]
    }
   ],
   "source": [
    "!pip show torchtext"
   ]
  },
  {
   "cell_type": "code",
   "execution_count": null,
   "metadata": {
    "execution": {
     "iopub.execute_input": "2024-07-06T02:47:21.074116Z",
     "iopub.status.busy": "2024-07-06T02:47:21.073766Z",
     "iopub.status.idle": "2024-07-06T02:47:21.082323Z",
     "shell.execute_reply": "2024-07-06T02:47:21.081411Z",
     "shell.execute_reply.started": "2024-07-06T02:47:21.074085Z"
    },
    "trusted": true
   },
   "outputs": [],
   "source": [
    "vocab.get_itos()[:10]"
   ]
  },
  {
   "cell_type": "code",
   "execution_count": null,
   "metadata": {
    "execution": {
     "iopub.execute_input": "2024-07-06T02:47:21.083650Z",
     "iopub.status.busy": "2024-07-06T02:47:21.083399Z",
     "iopub.status.idle": "2024-07-06T02:47:21.088075Z",
     "shell.execute_reply": "2024-07-06T02:47:21.087217Z",
     "shell.execute_reply.started": "2024-07-06T02:47:21.083629Z"
    },
    "trusted": true
   },
   "outputs": [],
   "source": [
    "pad_token_idx = vocab[pad_token]\n",
    "unk_token_idx = vocab[unk_token]"
   ]
  },
  {
   "cell_type": "code",
   "execution_count": null,
   "metadata": {
    "execution": {
     "iopub.execute_input": "2024-07-06T02:47:21.089545Z",
     "iopub.status.busy": "2024-07-06T02:47:21.089266Z",
     "iopub.status.idle": "2024-07-06T02:47:21.095318Z",
     "shell.execute_reply": "2024-07-06T02:47:21.094560Z",
     "shell.execute_reply.started": "2024-07-06T02:47:21.089523Z"
    },
    "trusted": true
   },
   "outputs": [],
   "source": [
    "vocab.set_default_index(unk_token_idx)"
   ]
  },
  {
   "cell_type": "code",
   "execution_count": null,
   "metadata": {
    "execution": {
     "iopub.execute_input": "2024-07-06T02:47:21.096616Z",
     "iopub.status.busy": "2024-07-06T02:47:21.096301Z",
     "iopub.status.idle": "2024-07-06T02:47:21.102623Z",
     "shell.execute_reply": "2024-07-06T02:47:21.101715Z",
     "shell.execute_reply.started": "2024-07-06T02:47:21.096584Z"
    },
    "trusted": true
   },
   "outputs": [],
   "source": [
    "# to number\n",
    "def text_to_number(text, vocab):\n",
    "    return [vocab[token] for token in text]"
   ]
  },
  {
   "cell_type": "code",
   "execution_count": null,
   "metadata": {
    "execution": {
     "iopub.execute_input": "2024-07-06T02:47:21.104035Z",
     "iopub.status.busy": "2024-07-06T02:47:21.103713Z",
     "iopub.status.idle": "2024-07-06T02:47:21.735474Z",
     "shell.execute_reply": "2024-07-06T02:47:21.734693Z",
     "shell.execute_reply.started": "2024-07-06T02:47:21.104013Z"
    },
    "trusted": true
   },
   "outputs": [],
   "source": [
    "to_int = clean_cap.apply(lambda x: text_to_number(x, vocab))"
   ]
  },
  {
   "cell_type": "code",
   "execution_count": null,
   "metadata": {
    "execution": {
     "iopub.execute_input": "2024-07-06T02:47:21.737090Z",
     "iopub.status.busy": "2024-07-06T02:47:21.736735Z",
     "iopub.status.idle": "2024-07-06T02:47:21.747171Z",
     "shell.execute_reply": "2024-07-06T02:47:21.746182Z",
     "shell.execute_reply.started": "2024-07-06T02:47:21.737054Z"
    },
    "trusted": true
   },
   "outputs": [],
   "source": [
    "to_int"
   ]
  },
  {
   "cell_type": "code",
   "execution_count": null,
   "metadata": {
    "execution": {
     "iopub.execute_input": "2024-07-06T02:47:21.748637Z",
     "iopub.status.busy": "2024-07-06T02:47:21.748333Z",
     "iopub.status.idle": "2024-07-06T02:47:21.754939Z",
     "shell.execute_reply": "2024-07-06T02:47:21.754080Z",
     "shell.execute_reply.started": "2024-07-06T02:47:21.748607Z"
    },
    "trusted": true
   },
   "outputs": [],
   "source": [
    "data['embed_caption'] = to_int"
   ]
  },
  {
   "cell_type": "code",
   "execution_count": null,
   "metadata": {
    "execution": {
     "iopub.execute_input": "2024-07-06T02:47:21.756294Z",
     "iopub.status.busy": "2024-07-06T02:47:21.755977Z",
     "iopub.status.idle": "2024-07-06T02:47:21.773823Z",
     "shell.execute_reply": "2024-07-06T02:47:21.772944Z",
     "shell.execute_reply.started": "2024-07-06T02:47:21.756264Z"
    },
    "trusted": true
   },
   "outputs": [],
   "source": [
    "data.head()"
   ]
  },
  {
   "cell_type": "code",
   "execution_count": null,
   "metadata": {
    "execution": {
     "iopub.execute_input": "2024-07-06T02:47:21.775039Z",
     "iopub.status.busy": "2024-07-06T02:47:21.774774Z",
     "iopub.status.idle": "2024-07-06T02:47:21.785634Z",
     "shell.execute_reply": "2024-07-06T02:47:21.784821Z",
     "shell.execute_reply.started": "2024-07-06T02:47:21.775016Z"
    },
    "trusted": true
   },
   "outputs": [],
   "source": [
    "vocab.lookup_tokens(data['embed_caption'][0])"
   ]
  },
  {
   "cell_type": "code",
   "execution_count": null,
   "metadata": {
    "execution": {
     "iopub.execute_input": "2024-07-06T02:47:21.787070Z",
     "iopub.status.busy": "2024-07-06T02:47:21.786746Z",
     "iopub.status.idle": "2024-07-06T02:47:21.816021Z",
     "shell.execute_reply": "2024-07-06T02:47:21.815346Z",
     "shell.execute_reply.started": "2024-07-06T02:47:21.787041Z"
    },
    "trusted": true
   },
   "outputs": [],
   "source": [
    "train, test = train_test_split(data, test_size=0.2, random_state=42)\n",
    "train = train.reset_index(drop=True)\n",
    "test = test.reset_index(drop=True)"
   ]
  },
  {
   "cell_type": "code",
   "execution_count": null,
   "metadata": {
    "execution": {
     "iopub.execute_input": "2024-07-06T02:47:21.817386Z",
     "iopub.status.busy": "2024-07-06T02:47:21.817079Z",
     "iopub.status.idle": "2024-07-06T02:47:21.823003Z",
     "shell.execute_reply": "2024-07-06T02:47:21.822163Z",
     "shell.execute_reply.started": "2024-07-06T02:47:21.817361Z"
    },
    "trusted": true
   },
   "outputs": [],
   "source": [
    "def get_collate_fn(pad_index):\n",
    "    def collate_fn(batch):\n",
    "        images = []\n",
    "        captions = []\n",
    "        for img, cap in batch:\n",
    "            images.append(img)\n",
    "            captions.append(cap)\n",
    "        images = torch.stack(images)\n",
    "        captions = torch.nn.utils.rnn.pad_sequence(captions, batch_first=True, padding_value=pad_index)\n",
    "        return images, captions\n",
    "\n",
    "    return collate_fn"
   ]
  },
  {
   "cell_type": "code",
   "execution_count": null,
   "metadata": {
    "execution": {
     "iopub.execute_input": "2024-07-06T02:47:21.824640Z",
     "iopub.status.busy": "2024-07-06T02:47:21.824345Z",
     "iopub.status.idle": "2024-07-06T02:47:21.832557Z",
     "shell.execute_reply": "2024-07-06T02:47:21.831777Z",
     "shell.execute_reply.started": "2024-07-06T02:47:21.824615Z"
    },
    "trusted": true
   },
   "outputs": [],
   "source": [
    "class CustomDataset(Dataset):\n",
    "    def __init__(self, root_dir, data, transform=None):\n",
    "        self.root_dir = root_dir\n",
    "        self.captions = data['embed_caption']\n",
    "        self.images = data['image']\n",
    "        self.transform = transform\n",
    "        \n",
    "    def __len__(self):\n",
    "        return len(self.captions)\n",
    "\n",
    "    def __getitem__(self, idx):\n",
    "        image = Image.open(os.path.join(self.root_dir, self.images[idx]))\n",
    "        caption = torch.tensor(self.captions[idx])\n",
    "        if self.transform:\n",
    "            image = self.transform(image)\n",
    "    \n",
    "        return image, caption"
   ]
  },
  {
   "cell_type": "code",
   "execution_count": null,
   "metadata": {
    "execution": {
     "iopub.execute_input": "2024-07-06T02:47:21.833971Z",
     "iopub.status.busy": "2024-07-06T02:47:21.833647Z",
     "iopub.status.idle": "2024-07-06T02:47:21.842132Z",
     "shell.execute_reply": "2024-07-06T02:47:21.841340Z",
     "shell.execute_reply.started": "2024-07-06T02:47:21.833948Z"
    },
    "trusted": true
   },
   "outputs": [],
   "source": [
    "transform = transforms.Compose([\n",
    "    # data type convert to tensor\n",
    "    transforms.Resize((256, 256)),\n",
    "    transforms.ToTensor(),\n",
    "    transforms.Normalize(mean=[0.5, 0.5, 0.5], std=[0.5, 0.5, 0.5])\n",
    "    \n",
    "])"
   ]
  },
  {
   "cell_type": "code",
   "execution_count": null,
   "metadata": {
    "execution": {
     "iopub.execute_input": "2024-07-06T02:47:21.844055Z",
     "iopub.status.busy": "2024-07-06T02:47:21.843258Z",
     "iopub.status.idle": "2024-07-06T02:47:21.850352Z",
     "shell.execute_reply": "2024-07-06T02:47:21.849473Z",
     "shell.execute_reply.started": "2024-07-06T02:47:21.844030Z"
    },
    "trusted": true
   },
   "outputs": [],
   "source": [
    "train_dataset = CustomDataset(\"/kaggle/input/flickr8k/Images\", train, transform=transform)\n",
    "test_dataset = CustomDataset(\"/kaggle/input/flickr8k/Images\", test, transform=transform)"
   ]
  },
  {
   "cell_type": "code",
   "execution_count": null,
   "metadata": {
    "execution": {
     "iopub.execute_input": "2024-07-06T02:47:21.856012Z",
     "iopub.status.busy": "2024-07-06T02:47:21.855729Z",
     "iopub.status.idle": "2024-07-06T02:47:21.859796Z",
     "shell.execute_reply": "2024-07-06T02:47:21.858995Z",
     "shell.execute_reply.started": "2024-07-06T02:47:21.855990Z"
    },
    "trusted": true
   },
   "outputs": [],
   "source": [
    "batch_size = 512 \n",
    "num_workers = 4"
   ]
  },
  {
   "cell_type": "code",
   "execution_count": null,
   "metadata": {
    "execution": {
     "iopub.execute_input": "2024-07-06T02:47:21.861223Z",
     "iopub.status.busy": "2024-07-06T02:47:21.860956Z",
     "iopub.status.idle": "2024-07-06T02:47:21.867583Z",
     "shell.execute_reply": "2024-07-06T02:47:21.866796Z",
     "shell.execute_reply.started": "2024-07-06T02:47:21.861201Z"
    },
    "trusted": true
   },
   "outputs": [],
   "source": [
    "train_data_loader = DataLoader(train_dataset, batch_size=batch_size, shuffle=True, num_workers = num_workers, collate_fn=get_collate_fn(pad_token_idx))\n",
    "test_data_loader = DataLoader(test_dataset, batch_size=batch_size, shuffle=True, num_workers = num_workers, collate_fn=get_collate_fn(pad_token_idx))"
   ]
  },
  {
   "cell_type": "code",
   "execution_count": null,
   "metadata": {
    "execution": {
     "iopub.execute_input": "2024-07-06T02:47:21.869318Z",
     "iopub.status.busy": "2024-07-06T02:47:21.868665Z",
     "iopub.status.idle": "2024-07-06T02:47:21.874577Z",
     "shell.execute_reply": "2024-07-06T02:47:21.873843Z",
     "shell.execute_reply.started": "2024-07-06T02:47:21.869270Z"
    },
    "trusted": true
   },
   "outputs": [],
   "source": [
    "embed_dim = 256\n",
    "hidden_dim = 512\n",
    "vocab_size = len(vocab)\n",
    "num_layers = 2\n",
    "dropout = 0.5"
   ]
  },
  {
   "cell_type": "code",
   "execution_count": null,
   "metadata": {
    "execution": {
     "iopub.execute_input": "2024-07-06T03:02:45.635800Z",
     "iopub.status.busy": "2024-07-06T03:02:45.635420Z",
     "iopub.status.idle": "2024-07-06T03:02:46.330433Z",
     "shell.execute_reply": "2024-07-06T03:02:46.329393Z",
     "shell.execute_reply.started": "2024-07-06T03:02:45.635776Z"
    },
    "trusted": true
   },
   "outputs": [],
   "source": [
    "encoder = Encoder(embed_dim, dropout)\n",
    "model = Decoder(embed_dim, hidden_dim, vocab_size, num_layers, device, encoder, dropout )\n",
    "model = model.to(device)"
   ]
  },
  {
   "cell_type": "code",
   "execution_count": null,
   "metadata": {
    "execution": {
     "iopub.execute_input": "2024-07-06T02:47:23.645398Z",
     "iopub.status.busy": "2024-07-06T02:47:23.645037Z",
     "iopub.status.idle": "2024-07-06T02:47:23.652125Z",
     "shell.execute_reply": "2024-07-06T02:47:23.651273Z",
     "shell.execute_reply.started": "2024-07-06T02:47:23.645367Z"
    },
    "trusted": true
   },
   "outputs": [],
   "source": [
    "n_epochs = 100\n",
    "learning_rate = 0.001\n",
    "optimizer = torch.optim.Adam(model.parameters(), lr=learning_rate)\n",
    "criterion = nn.CrossEntropyLoss(ignore_index = pad_token_idx)\n",
    "clip = 1.0\n",
    "teacher_forcing_ratio = 0.5\n",
    "best_valid_loss = float(\"inf\")\n"
   ]
  },
  {
   "cell_type": "code",
   "execution_count": null,
   "metadata": {
    "execution": {
     "iopub.execute_input": "2024-07-06T03:03:31.083553Z",
     "iopub.status.busy": "2024-07-06T03:03:31.082612Z",
     "iopub.status.idle": "2024-07-06T03:03:31.091327Z",
     "shell.execute_reply": "2024-07-06T03:03:31.090413Z",
     "shell.execute_reply.started": "2024-07-06T03:03:31.083509Z"
    },
    "scrolled": true,
    "trusted": true
   },
   "outputs": [],
   "source": [
    "def train_fn(model, data_loader, optimizer, criterion, clip, device):\n",
    "    model.train()\n",
    "    epoch_loss = 0\n",
    "    \n",
    "    for i, batch in enumerate(data_loader):\n",
    "        images, captions = batch\n",
    "        images, captions = images.to(device), captions.to(device)\n",
    "     \n",
    "        optimizer.zero_grad()\n",
    "        \n",
    "        captions_in = captions[:,:-1]\n",
    "        outputs = model(images, captions_in)\n",
    "        outputs = outputs.view(-1, outputs.shape[2]).to(device)\n",
    "        \n",
    "        captions = captions.view(-1)\n",
    "        \n",
    "        loss = criterion(outputs, captions)\n",
    "        loss.backward()\n",
    "\n",
    "        torch.nn.utils.clip_grad_norm_(model.parameters(), clip)\n",
    "        optimizer.step()\n",
    "        \n",
    "        epoch_loss += loss.item()\n",
    "    \n",
    "    return epoch_loss / len(data_loader)\n"
   ]
  },
  {
   "cell_type": "code",
   "execution_count": null,
   "metadata": {
    "execution": {
     "iopub.execute_input": "2024-07-06T03:09:37.143976Z",
     "iopub.status.busy": "2024-07-06T03:09:37.143266Z",
     "iopub.status.idle": "2024-07-06T03:09:37.151309Z",
     "shell.execute_reply": "2024-07-06T03:09:37.150243Z",
     "shell.execute_reply.started": "2024-07-06T03:09:37.143933Z"
    },
    "trusted": true
   },
   "outputs": [],
   "source": [
    "def evaluate_fn(model, data_loader, criterion, device):\n",
    "    model.eval()\n",
    "    epoch_loss = 0\n",
    "    with torch.no_grad():\n",
    "        for i, batch in enumerate(data_loader):\n",
    "            images, captions = batch\n",
    "            images, captions = images.to(device), captions.to(device)\n",
    "            \n",
    "            captions_in = captions[:,:-1]\n",
    "            outputs = model(images, captions_in)\n",
    "            \n",
    "            outputs = outputs.view(-1, outputs.shape[2]).to(device)\n",
    "            captions = captions.view(-1)\n",
    "        \n",
    "            loss = criterion(outputs, captions)\n",
    "            epoch_loss += loss.item()\n",
    "            \n",
    "    return epoch_loss / len(data_loader)\n"
   ]
  },
  {
   "cell_type": "code",
   "execution_count": null,
   "metadata": {
    "execution": {
     "iopub.execute_input": "2024-07-06T03:09:40.940082Z",
     "iopub.status.busy": "2024-07-06T03:09:40.939712Z"
    },
    "trusted": true
   },
   "outputs": [],
   "source": [
    "for epoch in tqdm(range(n_epochs)):\n",
    "    train_loss = train_fn(\n",
    "        model,\n",
    "        train_data_loader,\n",
    "        optimizer,\n",
    "        criterion,\n",
    "        clip,\n",
    "        device)\n",
    "    \n",
    "    \n",
    "    valid_loss = evaluate_fn(\n",
    "        model,\n",
    "        test_data_loader,\n",
    "        criterion,\n",
    "        device,\n",
    "    )\n",
    "    if valid_loss < best_valid_loss:\n",
    "        best_valid_loss = valid_loss\n",
    "        torch.save(model.state_dict(), \"best-model.pt\")\n",
    "    print(f\"\\tTrain Loss: {train_loss:7.3f}\")\n",
    "    print(f\"\\tValid Loss: {valid_loss:7.3f}\")\n",
    "torch.save(model.state_dict(), \"last_model.pt\")"
   ]
  },
  {
   "cell_type": "code",
   "execution_count": null,
   "metadata": {
    "execution": {
     "iopub.status.busy": "2024-07-06T02:47:24.121911Z",
     "iopub.status.idle": "2024-07-06T02:47:24.122227Z",
     "shell.execute_reply": "2024-07-06T02:47:24.122084Z",
     "shell.execute_reply.started": "2024-07-06T02:47:24.122072Z"
    },
    "trusted": true
   },
   "outputs": [],
   "source": [
    "def captioning_image(\n",
    "    image,\n",
    "    model,\n",
    "    vocab,\n",
    "    eos_token,\n",
    "    transform,\n",
    "    device,\n",
    "    max_output_length=25,\n",
    "):\n",
    "    model.eval()\n",
    "    with torch.no_grad():\n",
    "        \n",
    "        image = transform(image)\n",
    "\n",
    "        for _ in range(max_output_length):\n",
    "            inputs_tensor = image.unsqueeze(0).to(device)\n",
    "            feature = model.encoder(inputs_tensor).to(device)\n",
    "            output = model.decoder.get_prediction(feature, vocab)\n",
    "            \n",
    "            \n",
    "    return output"
   ]
  },
  {
   "cell_type": "code",
   "execution_count": null,
   "metadata": {
    "execution": {
     "iopub.status.busy": "2024-07-06T02:47:24.124057Z",
     "iopub.status.idle": "2024-07-06T02:47:24.124746Z",
     "shell.execute_reply": "2024-07-06T02:47:24.124522Z",
     "shell.execute_reply.started": "2024-07-06T02:47:24.124502Z"
    },
    "trusted": true
   },
   "outputs": [],
   "source": [
    "import matplotlib.pyplot as plt"
   ]
  },
  {
   "cell_type": "code",
   "execution_count": null,
   "metadata": {
    "execution": {
     "iopub.status.busy": "2024-07-06T02:47:24.126187Z",
     "iopub.status.idle": "2024-07-06T02:47:24.126505Z",
     "shell.execute_reply": "2024-07-06T02:47:24.126362Z",
     "shell.execute_reply.started": "2024-07-06T02:47:24.126350Z"
    },
    "trusted": true
   },
   "outputs": [],
   "source": [
    "image = Image.open(\"/kaggle/input/flickr8k/Images/1015118661_980735411b.jpg\")"
   ]
  },
  {
   "cell_type": "code",
   "execution_count": null,
   "metadata": {
    "execution": {
     "iopub.status.busy": "2024-07-06T02:47:24.127318Z",
     "iopub.status.idle": "2024-07-06T02:47:24.127623Z",
     "shell.execute_reply": "2024-07-06T02:47:24.127478Z",
     "shell.execute_reply.started": "2024-07-06T02:47:24.127466Z"
    },
    "trusted": true
   },
   "outputs": [],
   "source": [
    "image"
   ]
  },
  {
   "cell_type": "code",
   "execution_count": null,
   "metadata": {
    "execution": {
     "iopub.status.busy": "2024-07-06T02:47:24.128692Z",
     "iopub.status.idle": "2024-07-06T02:47:24.129040Z",
     "shell.execute_reply": "2024-07-06T02:47:24.128854Z",
     "shell.execute_reply.started": "2024-07-06T02:47:24.128842Z"
    },
    "trusted": true
   },
   "outputs": [],
   "source": [
    "def predict_caption(model, image, vocab, max_length=50):\n",
    "    model.eval()\n",
    "    with torch.no_grad():\n",
    "        features = model.encoder(image).unsqueeze(1)\n",
    "        input = features\n",
    "        hidden = torch.zeros(model.num_layers, 1, model.lstm.hidden_size).to(model.device)\n",
    "        cell = torch.zeros(model.num_layers, 1, model.lstm.hidden_size).to(model.device)\n",
    "\n",
    "        caption = []\n",
    "        for _ in range(max_length):\n",
    "            output, (hidden, cell) = model.lstm(input, (hidden, cell))\n",
    "            output = model.linear(output.squeeze(1))\n",
    "            predicted = output.argmax(1)\n",
    "            caption.append(predicted.item())\n",
    "            input = model.dropout(model.embed(predicted)).unsqueeze(1)\n",
    "            if predicted.item() == vocab['<eos>']:\n",
    "                break\n",
    "                \n",
    "    return vocab.lookup_tokens(caption)"
   ]
  },
  {
   "cell_type": "code",
   "execution_count": null,
   "metadata": {
    "execution": {
     "iopub.status.busy": "2024-07-06T02:47:24.130698Z",
     "iopub.status.idle": "2024-07-06T02:47:24.131145Z",
     "shell.execute_reply": "2024-07-06T02:47:24.130938Z",
     "shell.execute_reply.started": "2024-07-06T02:47:24.130920Z"
    },
    "trusted": true
   },
   "outputs": [],
   "source": [
    "image = transform(image)"
   ]
  },
  {
   "cell_type": "code",
   "execution_count": null,
   "metadata": {
    "execution": {
     "iopub.status.busy": "2024-07-06T02:47:24.132629Z",
     "iopub.status.idle": "2024-07-06T02:47:24.132960Z",
     "shell.execute_reply": "2024-07-06T02:47:24.132793Z",
     "shell.execute_reply.started": "2024-07-06T02:47:24.132780Z"
    },
    "trusted": true
   },
   "outputs": [],
   "source": [
    "pred = predict_caption(model, image.unsqueeze(0).to(device), vocab, 20)"
   ]
  },
  {
   "cell_type": "code",
   "execution_count": null,
   "metadata": {
    "execution": {
     "iopub.status.busy": "2024-07-06T02:47:24.134558Z",
     "iopub.status.idle": "2024-07-06T02:47:24.134911Z",
     "shell.execute_reply": "2024-07-06T02:47:24.134738Z",
     "shell.execute_reply.started": "2024-07-06T02:47:24.134725Z"
    },
    "trusted": true
   },
   "outputs": [],
   "source": [
    "pred"
   ]
  }
 ],
 "metadata": {
  "kaggle": {
   "accelerator": "nvidiaTeslaT4",
   "dataSources": [
    {
     "datasetId": 623289,
     "sourceId": 1111676,
     "sourceType": "datasetVersion"
    }
   ],
   "dockerImageVersionId": 30733,
   "isGpuEnabled": true,
   "isInternetEnabled": true,
   "language": "python",
   "sourceType": "notebook"
  },
  "kernelspec": {
   "display_name": "xlstm",
   "language": "python",
   "name": "python3"
  },
  "language_info": {
   "codemirror_mode": {
    "name": "ipython",
    "version": 3
   },
   "file_extension": ".py",
   "mimetype": "text/x-python",
   "name": "python",
   "nbconvert_exporter": "python",
   "pygments_lexer": "ipython3",
   "version": "3.11.11"
  }
 },
 "nbformat": 4,
 "nbformat_minor": 4
}
